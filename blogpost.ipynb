{
 "cells": [
  {
   "cell_type": "code",
   "execution_count": null,
   "metadata": {},
   "outputs": [],
   "source": [
    "import numpy as np\n",
    "import polars as pl\n",
    "import polars.selectors as cs\n",
    "import scipy.stats as stats\n",
    "from numpy.typing import NDArray\n",
    "from sklearn.naive_bayes import GaussianNB\n",
    "\n",
    "pl.Config.set_tbl_rows(n=10)\n",
    "pl.Config.set_fmt_str_lengths(n=100);"
   ]
  },
  {
   "cell_type": "code",
   "execution_count": null,
   "metadata": {},
   "outputs": [],
   "source": [
    "df_m = (\n",
    "    (pl.scan_parquet(\"data/aoe2/matches/*/*.parquet\"))\n",
    "    .filter(pl.col(\"raw_match_type\").is_between(6, 9))\n",
    "    .select(pl.all().shrink_dtype())\n",
    ")\n",
    "df_m_c, profile = df_m.profile()\n",
    "print(f\"Match data is about {df_m_c.estimated_size('gb'):.2f} GB\")\n",
    "df_m_c"
   ]
  },
  {
   "cell_type": "code",
   "execution_count": null,
   "metadata": {},
   "outputs": [],
   "source": [
    "df_p = pl.scan_parquet(\"data/aoe2/player/*/*.parquet\")\n",
    "df_p_c = (\n",
    "    df_p.join(other=df_m_c.lazy(), on=\"game_id\", how=\"semi\")\n",
    "    .collect()\n",
    "    .select(pl.all().shrink_dtype())\n",
    ")\n",
    "print(f\"Player data is about {df_p_c.estimated_size('gb'):.2f} GB\")\n",
    "df_p_c"
   ]
  },
  {
   "cell_type": "code",
   "execution_count": null,
   "metadata": {},
   "outputs": [],
   "source": [
    "rating_diffs = (\n",
    "    df_p_c.join(\n",
    "        other=df_m_c.filter(\n",
    "            raw_match_type=6  # For filtering a column on equality, Polars offers some syntactical sugar\n",
    "        ),  # Restrict the data to 1-vs-1 games to get a more accurate image\n",
    "        on=\"game_id\",\n",
    "        how=\"inner\",\n",
    "    )\n",
    "    .select(\n",
    "        \"match_rating_diff\", \"winner\"\n",
    "    )  # We only want the rating difference and the winner-flag\n",
    "    .drop_nulls()  # Placement matches have players with no rating calculated yet, can be removed\n",
    ")\n",
    "rating_diffs"
   ]
  },
  {
   "cell_type": "code",
   "execution_count": null,
   "metadata": {},
   "outputs": [],
   "source": [
    "gnb = GaussianNB()\n",
    "gnb.fit(X=rating_diffs.select(\"match_rating_diff\"), y=rating_diffs.select(\"winner\"))\n",
    "gnb.score(X=rating_diffs.select(\"match_rating_diff\"), y=rating_diffs.select(\"winner\"))"
   ]
  },
  {
   "cell_type": "code",
   "execution_count": null,
   "metadata": {},
   "outputs": [],
   "source": [
    "winning_rating_diffs = pl.DataFrame(\n",
    "    pl.int_range(start=-1000, end=1000 + 5, step=5, eager=True)\n",
    "    .cast(pl.Float64)\n",
    "    .alias(\"Rating diff\")\n",
    ").with_columns(\n",
    "    pl.col(\"Rating diff\")\n",
    "    .map_batches(lambda x: gnb.predict_proba(X=np.atleast_2d(x.to_numpy()).T)[:, 1])\n",
    "    .alias(\"Win chance\")\n",
    ")\n",
    "winning_rating_diffs"
   ]
  },
  {
   "cell_type": "code",
   "execution_count": null,
   "metadata": {},
   "outputs": [],
   "source": [
    "winning_rating_diffs.plot.line(x=\"Rating diff\", y=\"Win chance\", width=800, height=800)"
   ]
  },
  {
   "cell_type": "code",
   "execution_count": null,
   "metadata": {},
   "outputs": [],
   "source": [
    "test = pl.DataFrame({\"Rating diff\": [0.0]}).sort(\"Rating diff\")\n",
    "test.join_asof(\n",
    "    other=winning_rating_diffs.sort(\"Rating diff\"), on=\"Rating diff\", strategy=\"nearest\"\n",
    ").select(\"Win chance\").item()"
   ]
  },
  {
   "cell_type": "code",
   "execution_count": null,
   "metadata": {},
   "outputs": [],
   "source": [
    "# fmt: off\n",
    "belcup_player_names = [\n",
    "    \"NeutralWouter\", \"Jolatis\", \"TrCL.Welcometorapture\", \"[ARKP]Anthoxx\", \"[SMURFS] Bernoob\", \"BloodyNival\", \"Caféglacé\", \"Cooper\", \"flem.Dieterkiller\", \"[mPzzA] Fluxbastia\", \"[Argus] Grigor Grinta\", \"KEVAIN_25\", \"[Argus] Kevin Hubris\", \"KTT TheKiiwii\", \"PAP.KingBug\", \"KnightofSaintJohn\", \"[BraBros] Koen\", \"Koztikoz\", \"[TSU] Midu\", \"Mighty.Plumber\", \"AOKI_MIPS\", \"[Argus] Nietblom\", \"Pairu\", \"PieterDela\", \"The_Damn_Bugum\", \"SmellyLeopard\", \"Squatting Slav in Tracksuit\", \"The Barbarian_BE\", \"flem.TheLastBender\", \"the_belgian\", \"Tusky\", \"Vico\", \"Royal Yakuza\",\n",
    "]\n",
    "belcup_player_ids = [\n",
    "    4690424, 252907, 4460059, 1613746, 1867046, 2931610, 1784887, 443371, 2541027, 120364, 1908961, 2416466, 1140888, 1141095, 1957729, 2303174, 4016370, 333933, 2337644, 2358049, 11300774, 227894, 11662735, 3040509, 213305, 372754, 9684159, 819301, 2034401, 3379379, 238628, 5249964, 6434030,\n",
    "]\n",
    "# fmt: on\n",
    "players_belcup = pl.DataFrame(\n",
    "    {\"name\": belcup_player_names, \"profile_id\": belcup_player_ids}\n",
    ").select(pl.all().shrink_dtype())\n",
    "players_belcup"
   ]
  },
  {
   "cell_type": "code",
   "execution_count": null,
   "metadata": {},
   "outputs": [],
   "source": [
    "df_belcup = (\n",
    "    df_p_c.join(other=players_belcup, on=\"profile_id\", how=\"inner\")\n",
    "    .drop(\"profile_id\")\n",
    "    .join(\n",
    "        other=df_m_c.filter(raw_match_type=6).select(\"game_id\", \"started_timestamp\"),\n",
    "        on=\"game_id\",\n",
    "        how=\"inner\",\n",
    "    )\n",
    "    .select(\"name\", \"new_rating\", \"started_timestamp\")\n",
    ")\n",
    "df_belcup"
   ]
  },
  {
   "cell_type": "code",
   "execution_count": null,
   "metadata": {},
   "outputs": [],
   "source": [
    "belcup_ratings = (\n",
    "    df_belcup.group_by(\"name\")\n",
    "    .agg(\n",
    "        pl.max(\"new_rating\").alias(\"Maximum ELO\"),\n",
    "        pl.col(\"new_rating\").sort_by(\"started_timestamp\").last().alias(\"Current ELO\"),\n",
    "        pl.col(\"started_timestamp\").sort().last().alias(\"Current ELO timestamp\"),\n",
    "    )\n",
    "    .with_columns(pl.mean_horizontal(\"Maximum ELO\", \"Current ELO\").alias(\"Seeding ELO\"))\n",
    "    .sort(\"Seeding ELO\", descending=True)\n",
    ").with_row_index(name=\"Seeding spot\", offset=1)\n",
    "belcup_ratings"
   ]
  },
  {
   "cell_type": "code",
   "execution_count": null,
   "metadata": {},
   "outputs": [],
   "source": [
    "df_first_round = pl.DataFrame(\n",
    "    {\n",
    "        \"Player 1\": [\n",
    "            \"[BraBros] Koen\",\n",
    "            \"KnightofSaintJohn\",\n",
    "            \"SmellyLeopard\",\n",
    "            \"Caféglacé\",\n",
    "            \"TrCL.Welcometorapture\",\n",
    "            \"the_belgian\",\n",
    "        ],\n",
    "        \"Player 2\": [\n",
    "            \"Pairu\",\n",
    "            \"Squatting Slav in Tracksuit\",\n",
    "            \"PAP.KingBug\",\n",
    "            \"ADCuitA\",\n",
    "            \"NeutralWouter\",\n",
    "            \"KEVAIN_25\",\n",
    "        ],\n",
    "    }\n",
    ")\n",
    "predict_first_round = (\n",
    "    df_first_round.join(\n",
    "        other=belcup_ratings.select(\n",
    "            pl.col(\"name\").alias(\"Player 1\"),\n",
    "            pl.col(\"Maximum ELO\").alias(\"ELO 1 Maximum\"),\n",
    "        ),\n",
    "        on=\"Player 1\",\n",
    "        how=\"left\",\n",
    "    )\n",
    "    .join(\n",
    "        other=belcup_ratings.select(\n",
    "            pl.col(\"name\").alias(\"Player 2\"),\n",
    "            pl.col(\"Maximum ELO\").alias(\"ELO 2 Maximum\"),\n",
    "        ),\n",
    "        on=\"Player 2\",\n",
    "        how=\"left\",\n",
    "    )\n",
    "    .with_columns(\n",
    "        cs.numeric().fill_null(1000)  # Need a default elo when it isn't available\n",
    "    )\n",
    "    .with_columns(\n",
    "        (pl.col(\"ELO 1 Maximum\") - pl.col(\"ELO 2 Maximum\")).alias(\"Rating diff\"),\n",
    "    )\n",
    "    .with_columns(pl.col(pl.UInt16).cast(pl.Float64))\n",
    "    .sort(\"Rating diff\")\n",
    ")\n",
    "predict_first_round"
   ]
  },
  {
   "cell_type": "code",
   "execution_count": null,
   "metadata": {},
   "outputs": [],
   "source": [
    "predict_first_round = predict_first_round.join_asof(\n",
    "    other=winning_rating_diffs.sort(\"Rating diff\"),\n",
    "    on=\"Rating diff\",\n",
    "    strategy=\"nearest\",\n",
    ")\n",
    "predict_first_round"
   ]
  },
  {
   "cell_type": "code",
   "execution_count": null,
   "metadata": {},
   "outputs": [],
   "source": [
    "# Prepares a LazyFrame listing all possible winning end results for\n",
    "# a given Best-Of series.\n",
    "def create_bestof_records(BO: int) -> pl.LazyFrame:\n",
    "    N = (BO // 2) + 1\n",
    "    df = pl.DataFrame({\"Wins\": list(range(N + 1))}).lazy()\n",
    "    return (\n",
    "        df.join(other=df, how=\"cross\")\n",
    "        .rename({\"Wins\": \"Wins Player 1\", \"Wins_right\": \"Wins Player 2\"})\n",
    "        .filter(\n",
    "            ((pl.col(\"Wins Player 1\") >= N) | (pl.col(\"Wins Player 2\") >= N))\n",
    "            & (pl.col(\"Wins Player 1\") != pl.col(\"Wins Player 2\"))\n",
    "        )\n",
    "    )\n",
    "\n",
    "\n",
    "# Another UDF, where the entire column is propagated and can be calculated in a vectorized way\n",
    "def calculate_win_chance(df: pl.Series) -> NDArray:\n",
    "    p1wins = df.struct.field(\"Wins Player 1\").to_numpy()\n",
    "    p2wins = df.struct.field(\"Wins Player 2\").to_numpy()\n",
    "    p = df.struct.field(\"Win chance\").to_numpy()\n",
    "    p = np.where(p2wins > p1wins, 1 - p, p)\n",
    "    wins = np.where(p2wins > p1wins, p2wins, p1wins) - 1\n",
    "    total_games = (p1wins + p2wins) - 1\n",
    "    return stats.binom.pmf(wins, total_games, p) * p\n",
    "\n",
    "\n",
    "BO = 5\n",
    "N = (BO // 2) + 1\n",
    "\n",
    "prediction = (\n",
    "    predict_first_round.lazy()\n",
    "    .join(other=create_bestof_records(BO=BO), how=\"cross\")\n",
    "    .with_columns(\n",
    "        pl.struct(\n",
    "            \"Wins Player 1\", \"Wins Player 2\", \"Win chance\"\n",
    "        )  # Passing multiple columns at once to a UDF can be done by creating a struct column\n",
    "        .map_batches(calculate_win_chance)\n",
    "        .alias(\"Score probability\"),\n",
    "        pl.when(pl.col(\"Wins Player 1\") == N)\n",
    "        .then(\n",
    "            \"Player 1\"\n",
    "        )  # In general, strings are interpreted as column names, not literals\n",
    "        .otherwise(\"Player 2\")\n",
    "        .alias(\"Winner\"),\n",
    "    )\n",
    "    .with_columns(\n",
    "        pl.col(\"Score probability\").sum().over(\"Winner\").alias(\"Winner probability\")\n",
    "    )\n",
    "    .filter(\n",
    "        pl.col(\"Score probability\")\n",
    "        == pl.col(\"Score probability\").max().over(\"Player 1\", \"Player 2\")\n",
    "    )  # The combination of Player 1 and Player 2 determines each match-up uniquely\n",
    ")\n",
    "prediction.collect()"
   ]
  }
 ],
 "metadata": {
  "kernelspec": {
   "display_name": ".venv",
   "language": "python",
   "name": "python3"
  },
  "language_info": {
   "codemirror_mode": {
    "name": "ipython",
    "version": 3
   },
   "file_extension": ".py",
   "mimetype": "text/x-python",
   "name": "python",
   "nbconvert_exporter": "python",
   "pygments_lexer": "ipython3",
   "version": "3.10.11"
  },
  "orig_nbformat": 4
 },
 "nbformat": 4,
 "nbformat_minor": 2
}
